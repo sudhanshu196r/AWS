{
 "cells": [
  {
   "cell_type": "code",
   "execution_count": 13,
   "id": "ffac4ada-f62b-4440-b9e8-488c67f7c790",
   "metadata": {},
   "outputs": [
    {
     "name": "stdout",
     "output_type": "stream",
     "text": [
      "Data exported to employee_export.json\n"
     ]
    }
   ],
   "source": [
    "import boto3\n",
    "import json\n",
    "from decimal import Decimal\n",
    "\n",
    "class DecimalEncoder(json.JSONEncoder):\n",
    "    def default(self, obj):\n",
    "        if isinstance(obj, Decimal):\n",
    "            # Convert Decimal to float or int\n",
    "            return float(obj)\n",
    "        return super(DecimalEncoder, self).default(obj)\n",
    "\n",
    "dynamodb = boto3.resource('dynamodb', region_name='ap-south-1')\n",
    "\n",
    "table = dynamodb.Table('Employee')\n",
    "\n",
    "def export_table_to_json(file_name):\n",
    "    response = table.scan()\n",
    "    items = response.get('Items', [])\n",
    "\n",
    "    with open(file_name, 'w') as file:\n",
    "        json.dump(items, file, indent=4, cls = DecimalEncoder)\n",
    "    print(f\"Data exported to {file_name}\")\n",
    "\n",
    "export_table_to_json(\"employee_export.json\")\n"
   ]
  },
  {
   "cell_type": "code",
   "execution_count": 22,
   "id": "3ddeece2-5372-4df5-957b-ce651cf26616",
   "metadata": {},
   "outputs": [
    {
     "name": "stdout",
     "output_type": "stream",
     "text": [
      "Data imported from employee_import.json\n"
     ]
    }
   ],
   "source": [
    "import boto3\n",
    "import json\n",
    "\n",
    "from decimal import Decimal\n",
    "\n",
    "\n",
    "dynamodb = boto3.resource('dynamodb', region_name='ap-south-1')\n",
    "table = dynamodb.Table('Employee')\n",
    "\n",
    "def import_json_to_table(file_name):\n",
    "    with open(file_name, 'r') as file:\n",
    "        items = json.load(file)\n",
    "\n",
    "    for item in items:\n",
    "        item['id'] = Decimal(str(item['id']))  # Convert id to Decimal\n",
    "        item['age'] = Decimal(str(item['age']))  # Convert age to Decimal\n",
    "\n",
    "    with table.batch_writer() as batch:\n",
    "        for item in items:\n",
    "            batch.put_item(Item=item)\n",
    "        print(f\"Data imported from {file_name}\")\n",
    "\n",
    "# Example Usage\n",
    "import_json_to_table(\"employee_import.json\")\n",
    "\n"
   ]
  },
  {
   "cell_type": "code",
   "execution_count": 15,
   "id": "4ef906df-0661-4852-baf4-285f991591b6",
   "metadata": {},
   "outputs": [
    {
     "name": "stdout",
     "output_type": "stream",
     "text": [
      "JSON loaded successfully: [{'id': 3.0, 'name': 'Dilip', 'gender': 'M', 'age': 23.0}, {'id': 2.0, 'name': 'Dhananjay', 'gender': 'M', 'age': 24.0}, {'id': 4.0, 'name': 'Ankitha', 'gender': 'F', 'age': 22.0}, {'id': 1.0, 'name': 'Sudhanshu', 'gender': 'M', 'age': 25.0}]\n"
     ]
    }
   ],
   "source": [
    "import json\n",
    "\n",
    "# Load the JSON file and sanitize it\n",
    "file_path = 'employee_export.json'\n",
    "try:\n",
    "    with open(file_path, 'r') as file:\n",
    "        # Attempt to load JSON\n",
    "        data = json.load(file)\n",
    "    print(\"JSON loaded successfully:\", data)\n",
    "except json.JSONDecodeError:\n",
    "    print(\"The file contains invalid JSON. Please correct the syntax.\")\n"
   ]
  },
  {
   "cell_type": "code",
   "execution_count": null,
   "id": "8e4bffa3-a282-4c8c-af1e-9b29d936250c",
   "metadata": {},
   "outputs": [],
   "source": []
  }
 ],
 "metadata": {
  "kernelspec": {
   "display_name": "Python 3 (ipykernel)",
   "language": "python",
   "name": "python3"
  },
  "language_info": {
   "codemirror_mode": {
    "name": "ipython",
    "version": 3
   },
   "file_extension": ".py",
   "mimetype": "text/x-python",
   "name": "python",
   "nbconvert_exporter": "python",
   "pygments_lexer": "ipython3",
   "version": "3.9.13"
  }
 },
 "nbformat": 4,
 "nbformat_minor": 5
}
