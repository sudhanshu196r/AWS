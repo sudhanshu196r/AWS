{
 "cells": [
  {
   "cell_type": "code",
   "execution_count": 1,
   "id": "e62abeb5-ac8f-433d-9cb3-6ecb4fbadf11",
   "metadata": {},
   "outputs": [
    {
     "name": "stdout",
     "output_type": "stream",
     "text": [
      "Requirement already satisfied: boto3 in c:\\users\\sudha\\appdata\\local\\programs\\python\\python39\\lib\\site-packages (1.35.76)\n",
      "Requirement already satisfied: botocore<1.36.0,>=1.35.76 in c:\\users\\sudha\\appdata\\local\\programs\\python\\python39\\lib\\site-packages (from boto3) (1.35.76)\n",
      "Requirement already satisfied: jmespath<2.0.0,>=0.7.1 in c:\\users\\sudha\\appdata\\local\\programs\\python\\python39\\lib\\site-packages (from boto3) (1.0.1)\n",
      "Requirement already satisfied: s3transfer<0.11.0,>=0.10.0 in c:\\users\\sudha\\appdata\\local\\programs\\python\\python39\\lib\\site-packages (from boto3) (0.10.4)\n",
      "Requirement already satisfied: python-dateutil<3.0.0,>=2.1 in c:\\users\\sudha\\appdata\\local\\programs\\python\\python39\\lib\\site-packages (from botocore<1.36.0,>=1.35.76->boto3) (2.8.2)\n",
      "Requirement already satisfied: urllib3<1.27,>=1.25.4 in c:\\users\\sudha\\appdata\\local\\programs\\python\\python39\\lib\\site-packages (from botocore<1.36.0,>=1.35.76->boto3) (1.26.13)\n",
      "Requirement already satisfied: six>=1.5 in c:\\users\\sudha\\appdata\\local\\programs\\python\\python39\\lib\\site-packages (from python-dateutil<3.0.0,>=2.1->botocore<1.36.0,>=1.35.76->boto3) (1.16.0)\n"
     ]
    },
    {
     "name": "stderr",
     "output_type": "stream",
     "text": [
      "WARNING: Ignoring invalid distribution -ysql-connector-python (c:\\users\\sudha\\appdata\\local\\programs\\python\\python39\\lib\\site-packages)\n",
      "WARNING: Ignoring invalid distribution -ysql-connector-python (c:\\users\\sudha\\appdata\\local\\programs\\python\\python39\\lib\\site-packages)\n",
      "WARNING: Ignoring invalid distribution -ysql-connector-python (c:\\users\\sudha\\appdata\\local\\programs\\python\\python39\\lib\\site-packages)\n",
      "WARNING: Ignoring invalid distribution -ysql-connector-python (c:\\users\\sudha\\appdata\\local\\programs\\python\\python39\\lib\\site-packages)\n",
      "WARNING: Ignoring invalid distribution -ysql-connector-python (c:\\users\\sudha\\appdata\\local\\programs\\python\\python39\\lib\\site-packages)\n",
      "WARNING: Ignoring invalid distribution -ysql-connector-python (c:\\users\\sudha\\appdata\\local\\programs\\python\\python39\\lib\\site-packages)\n",
      "WARNING: You are using pip version 22.0.4; however, version 24.3.1 is available.\n",
      "You should consider upgrading via the 'C:\\Users\\sudha\\AppData\\Local\\Programs\\Python\\Python39\\python.exe -m pip install --upgrade pip' command.\n"
     ]
    }
   ],
   "source": [
    "!pip install boto3"
   ]
  },
  {
   "cell_type": "code",
   "execution_count": 4,
   "id": "3cb78435-f214-46d2-b7a0-e468274cb3a8",
   "metadata": {},
   "outputs": [
    {
     "name": "stdout",
     "output_type": "stream",
     "text": [
      "dynamodb.Table(name='Employee')\n"
     ]
    }
   ],
   "source": [
    "import boto3\n",
    "\n",
    "# Initialize DynamoDB resource\n",
    "dynamodb = boto3.resource('dynamodb', region_name='ap-south-1')\n",
    "\n",
    "# Reference your table\n",
    "table_name = \"Employee\"\n",
    "table = dynamodb.Table(table_name)\n",
    "print(table)\n"
   ]
  },
  {
   "cell_type": "code",
   "execution_count": 6,
   "id": "eab36f23-edd5-4428-bf73-b4ac5559c339",
   "metadata": {},
   "outputs": [
    {
     "name": "stdout",
     "output_type": "stream",
     "text": [
      "Create Response: {'ResponseMetadata': {'RequestId': '0BQIG1N8SJ60ULUUT7A6CPVHKFVV4KQNSO5AEMVJF66Q9ASUAAJG', 'HTTPStatusCode': 200, 'HTTPHeaders': {'server': 'Server', 'date': 'Fri, 13 Dec 2024 06:45:50 GMT', 'content-type': 'application/x-amz-json-1.0', 'content-length': '2', 'connection': 'keep-alive', 'x-amzn-requestid': '0BQIG1N8SJ60ULUUT7A6CPVHKFVV4KQNSO5AEMVJF66Q9ASUAAJG', 'x-amz-crc32': '2745614147'}, 'RetryAttempts': 7}}\n",
      "Create Response: {'ResponseMetadata': {'RequestId': 'DDQOD32CEP7JOTNHUOPUKGO36JVV4KQNSO5AEMVJF66Q9ASUAAJG', 'HTTPStatusCode': 200, 'HTTPHeaders': {'server': 'Server', 'date': 'Fri, 13 Dec 2024 06:45:50 GMT', 'content-type': 'application/x-amz-json-1.0', 'content-length': '2', 'connection': 'keep-alive', 'x-amzn-requestid': 'DDQOD32CEP7JOTNHUOPUKGO36JVV4KQNSO5AEMVJF66Q9ASUAAJG', 'x-amz-crc32': '2745614147'}, 'RetryAttempts': 0}}\n"
     ]
    }
   ],
   "source": [
    "def create_employee(id, name, age, gender):\n",
    "    response = table.put_item(\n",
    "        Item={\n",
    "            'id': id,\n",
    "            'name': name,\n",
    "            'age': age,\n",
    "            'gender': gender\n",
    "        }\n",
    "    )\n",
    "    print(\"Create Response:\", response)\n",
    "\n",
    "# Example Usage\n",
    "create_employee(1, \"Sudhanshu\", 24, 'M')\n",
    "create_employee(2, 'Dhananjay', 25, 'M')\n"
   ]
  },
  {
   "cell_type": "code",
   "execution_count": 8,
   "id": "73ae3d23-f9b2-4f3b-8a4e-6fdfd9953086",
   "metadata": {},
   "outputs": [
    {
     "name": "stdout",
     "output_type": "stream",
     "text": [
      "Employee Retrieved: {'id': Decimal('1'), 'name': 'Sudhanshu', 'gender': 'M', 'age': Decimal('24')}\n"
     ]
    }
   ],
   "source": [
    "def get_employee(id):\n",
    "    response = table.get_item(Key={'id': id})\n",
    "    item = response.get('Item')\n",
    "    if item:\n",
    "        print(\"Employee Retrieved:\", item)\n",
    "    else:\n",
    "        print(\"Employee not found.\")\n",
    "\n",
    "# Example Usage\n",
    "get_employee(1)\n"
   ]
  },
  {
   "cell_type": "code",
   "execution_count": 9,
   "id": "c5dd2146-d93c-429e-b5a5-c8334bee2d07",
   "metadata": {},
   "outputs": [
    {
     "name": "stdout",
     "output_type": "stream",
     "text": [
      "Create Response: {'ResponseMetadata': {'RequestId': '6TFRB8KCLLTBV7PGQRE98VT2TRVV4KQNSO5AEMVJF66Q9ASUAAJG', 'HTTPStatusCode': 200, 'HTTPHeaders': {'server': 'Server', 'date': 'Fri, 13 Dec 2024 06:53:38 GMT', 'content-type': 'application/x-amz-json-1.0', 'content-length': '2', 'connection': 'keep-alive', 'x-amzn-requestid': '6TFRB8KCLLTBV7PGQRE98VT2TRVV4KQNSO5AEMVJF66Q9ASUAAJG', 'x-amz-crc32': '2745614147'}, 'RetryAttempts': 0}}\n",
      "Create Response: {'ResponseMetadata': {'RequestId': '97PBRFR73J163LQR4VN4FV6ITFVV4KQNSO5AEMVJF66Q9ASUAAJG', 'HTTPStatusCode': 200, 'HTTPHeaders': {'server': 'Server', 'date': 'Fri, 13 Dec 2024 06:53:38 GMT', 'content-type': 'application/x-amz-json-1.0', 'content-length': '2', 'connection': 'keep-alive', 'x-amzn-requestid': '97PBRFR73J163LQR4VN4FV6ITFVV4KQNSO5AEMVJF66Q9ASUAAJG', 'x-amz-crc32': '2745614147'}, 'RetryAttempts': 0}}\n",
      "Create Response: {'ResponseMetadata': {'RequestId': 'ATJMMPQNEIHM0DN83I88NE13B3VV4KQNSO5AEMVJF66Q9ASUAAJG', 'HTTPStatusCode': 200, 'HTTPHeaders': {'server': 'Server', 'date': 'Fri, 13 Dec 2024 06:53:38 GMT', 'content-type': 'application/x-amz-json-1.0', 'content-length': '2', 'connection': 'keep-alive', 'x-amzn-requestid': 'ATJMMPQNEIHM0DN83I88NE13B3VV4KQNSO5AEMVJF66Q9ASUAAJG', 'x-amz-crc32': '2745614147'}, 'RetryAttempts': 0}}\n"
     ]
    }
   ],
   "source": [
    "create_employee(3, 'Dilip', 23, 'M')\n",
    "create_employee(4, 'Ankitha', 22, 'F')\n",
    "create_employee(6, 'Helen', 26, 'F')"
   ]
  },
  {
   "cell_type": "code",
   "execution_count": 10,
   "id": "a6532f74-d0d9-4e98-9ac1-08291ed1d7c5",
   "metadata": {},
   "outputs": [
    {
     "name": "stdout",
     "output_type": "stream",
     "text": [
      "{'id': Decimal('3'), 'name': 'Dilip', 'gender': 'M', 'age': Decimal('23')}\n",
      "{'id': Decimal('2'), 'name': 'Dhananjay', 'gender': 'M', 'age': Decimal('24')}\n",
      "{'id': Decimal('4'), 'name': 'Ankitha', 'gender': 'F', 'age': Decimal('22')}\n",
      "{'id': Decimal('6'), 'name': 'Helen', 'gender': 'F', 'age': Decimal('26')}\n",
      "{'id': Decimal('1'), 'name': 'Sudhanshu', 'gender': 'M', 'age': Decimal('24')}\n"
     ]
    }
   ],
   "source": [
    "def list_all_employees():\n",
    "    response = table.scan()\n",
    "    items = response.get('Items', [])\n",
    "    for item in items:\n",
    "        print(item)\n",
    "\n",
    "# Example Usage\n",
    "list_all_employees()\n"
   ]
  },
  {
   "cell_type": "code",
   "execution_count": 11,
   "id": "f5cf03c4-daa9-4cda-9abb-750d87a20769",
   "metadata": {},
   "outputs": [
    {
     "name": "stdout",
     "output_type": "stream",
     "text": [
      "Update Response: {'Attributes': {'age': Decimal('25')}, 'ResponseMetadata': {'RequestId': 'DKVGFBHUBF420CKKCV2MTR8F2VVV4KQNSO5AEMVJF66Q9ASUAAJG', 'HTTPStatusCode': 200, 'HTTPHeaders': {'server': 'Server', 'date': 'Fri, 13 Dec 2024 06:57:06 GMT', 'content-type': 'application/x-amz-json-1.0', 'content-length': '33', 'connection': 'keep-alive', 'x-amzn-requestid': 'DKVGFBHUBF420CKKCV2MTR8F2VVV4KQNSO5AEMVJF66Q9ASUAAJG', 'x-amz-crc32': '676987556'}, 'RetryAttempts': 0}}\n"
     ]
    }
   ],
   "source": [
    "def update_employee_age(id, new_age):\n",
    "    response = table.update_item(\n",
    "        Key={'id': id},\n",
    "        UpdateExpression=\"set age = :age\",\n",
    "        ExpressionAttributeValues={':age': new_age},\n",
    "        ReturnValues=\"UPDATED_NEW\"\n",
    "    )\n",
    "    print(\"Update Response:\", response)\n",
    "\n",
    "# Example Usage\n",
    "update_employee_age(1, 25)\n"
   ]
  },
  {
   "cell_type": "code",
   "execution_count": 17,
   "id": "c80f9833-d444-44b7-895f-469b14ce13bb",
   "metadata": {},
   "outputs": [
    {
     "name": "stdout",
     "output_type": "stream",
     "text": [
      "{'id': Decimal('7'), 'name': 'Neha', 'gender': 'F', 'age': Decimal('24')}\n",
      "{'id': Decimal('8'), 'name': 'Vikram', 'gender': 'M', 'age': Decimal('29')}\n",
      "{'id': Decimal('3'), 'name': 'Dilip', 'gender': 'M', 'age': Decimal('23')}\n",
      "{'id': Decimal('2'), 'name': 'Dhananjay', 'gender': 'M', 'age': Decimal('24')}\n",
      "{'id': Decimal('4'), 'name': 'Ankitha', 'gender': 'F', 'age': Decimal('22')}\n",
      "{'id': Decimal('6'), 'name': 'Karan', 'gender': 'M', 'age': Decimal('28')}\n",
      "{'id': Decimal('1'), 'name': 'Sudhanshu', 'gender': 'M', 'age': Decimal('25')}\n",
      "{'id': Decimal('5'), 'name': 'Riya', 'gender': 'F', 'age': Decimal('26')}\n"
     ]
    }
   ],
   "source": [
    "def list_all_employee():\n",
    "    response = table.scan()\n",
    "    items = response.get('Items')\n",
    "    for item in items:\n",
    "        print(item)\n",
    "\n",
    "list_all_employee()"
   ]
  },
  {
   "cell_type": "code",
   "execution_count": 15,
   "id": "ab410d80-37e4-41f1-b2b0-219861a7c184",
   "metadata": {},
   "outputs": [
    {
     "name": "stdout",
     "output_type": "stream",
     "text": [
      "Delete Response: {'ResponseMetadata': {'RequestId': '8AFOC3A6O837P3346EFQF6FE8VVV4KQNSO5AEMVJF66Q9ASUAAJG', 'HTTPStatusCode': 200, 'HTTPHeaders': {'server': 'Server', 'date': 'Fri, 13 Dec 2024 07:08:11 GMT', 'content-type': 'application/x-amz-json-1.0', 'content-length': '2', 'connection': 'keep-alive', 'x-amzn-requestid': '8AFOC3A6O837P3346EFQF6FE8VVV4KQNSO5AEMVJF66Q9ASUAAJG', 'x-amz-crc32': '2745614147'}, 'RetryAttempts': 0}}\n"
     ]
    }
   ],
   "source": [
    "def delete_employee(id):\n",
    "    response = table.delete_item(Key={'id': id})\n",
    "    print(\"Delete Response:\", response)\n",
    "\n",
    "# Example Usage\n",
    "delete_employee(6)\n"
   ]
  },
  {
   "cell_type": "code",
   "execution_count": 16,
   "id": "8625b3b0-2524-446b-8264-dce96332a8fb",
   "metadata": {},
   "outputs": [
    {
     "name": "stdout",
     "output_type": "stream",
     "text": [
      "{'id': Decimal('3'), 'name': 'Dilip', 'gender': 'M', 'age': Decimal('23')}\n",
      "{'id': Decimal('2'), 'name': 'Dhananjay', 'gender': 'M', 'age': Decimal('24')}\n",
      "{'id': Decimal('4'), 'name': 'Ankitha', 'gender': 'F', 'age': Decimal('22')}\n",
      "{'id': Decimal('1'), 'name': 'Sudhanshu', 'gender': 'M', 'age': Decimal('25')}\n"
     ]
    }
   ],
   "source": [
    "list_all_employee()"
   ]
  },
  {
   "cell_type": "code",
   "execution_count": null,
   "id": "4b8a7af5-cd4c-48b4-b7ad-a40394b9db48",
   "metadata": {},
   "outputs": [],
   "source": []
  }
 ],
 "metadata": {
  "kernelspec": {
   "display_name": "Python 3 (ipykernel)",
   "language": "python",
   "name": "python3"
  },
  "language_info": {
   "codemirror_mode": {
    "name": "ipython",
    "version": 3
   },
   "file_extension": ".py",
   "mimetype": "text/x-python",
   "name": "python",
   "nbconvert_exporter": "python",
   "pygments_lexer": "ipython3",
   "version": "3.9.13"
  }
 },
 "nbformat": 4,
 "nbformat_minor": 5
}
